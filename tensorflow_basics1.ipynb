{
 "cells": [
  {
   "cell_type": "code",
   "execution_count": 1,
   "metadata": {},
   "outputs": [],
   "source": [
    "import tensorflow as tf"
   ]
  },
  {
   "cell_type": "code",
   "execution_count": 2,
   "metadata": {},
   "outputs": [
    {
     "name": "stdout",
     "output_type": "stream",
     "text": [
      "Welcome to the exciting world of Deep Neural Networks!\n"
     ]
    }
   ],
   "source": [
    "message = tf.constant('Welcome to the exciting world of Deep Neural Networks!')\n",
    "with tf.Session() as sess:\n",
    "    print(sess.run(message).decode()) \n"
   ]
  },
  {
   "cell_type": "code",
   "execution_count": 3,
   "metadata": {},
   "outputs": [
    {
     "name": "stdout",
     "output_type": "stream",
     "text": [
      "[3 3 8 7]\n"
     ]
    }
   ],
   "source": [
    "v_1 = tf.constant([1,2,3,4])\n",
    "v_2 = tf.constant([2,1,5,3])\n",
    "v_add = tf.add(v_1,v_2)\n",
    "with tf.Session() as sess:\n",
    "    print(sess.run(v_add)) "
   ]
  },
  {
   "cell_type": "code",
   "execution_count": 4,
   "metadata": {},
   "outputs": [
    {
     "name": "stdout",
     "output_type": "stream",
     "text": [
      "[3 3 8 7]\n"
     ]
    }
   ],
   "source": [
    "#The above two commands are equivalent to the following code. The advantage of using with block is that one need not close the session explicitly.\n",
    "v_1 = tf.constant([1,2,3,4])\n",
    "v_2 = tf.constant([2,1,5,3])\n",
    "v_add = tf.add(v_1,v_2)\n",
    "sess = tf.Session() \n",
    "print(sess.run(v_add)) \n",
    "sess.close() "
   ]
  },
  {
   "cell_type": "code",
   "execution_count": 5,
   "metadata": {},
   "outputs": [
    {
     "name": "stdout",
     "output_type": "stream",
     "text": [
      "[3 3 8 7]\n"
     ]
    }
   ],
   "source": [
    "#in 1 line\n",
    "print(tf.Session().run(tf.add(tf.constant([1,2,3,4]),tf.constant([2,1,5,3]) ))) "
   ]
  },
  {
   "cell_type": "code",
   "execution_count": 6,
   "metadata": {},
   "outputs": [
    {
     "name": "stdout",
     "output_type": "stream",
     "text": [
      "[3 3 8 7]\n"
     ]
    }
   ],
   "source": [
    "#If you are working on Jupyter Notebook or Python shell, it is more convenient to use tf.InteractiveSession instead of tf.Session. InteractiveSession makes itself the default session so that you can directly call run the tensor Object using eval() without explicitly calling the session, as described in the following example code:\n",
    "\n",
    "sess = tf.InteractiveSession()\n",
    "v_1 = tf.constant([1,2,3,4])\n",
    "v_2 = tf.constant([2,1,5,3])\n",
    "v_add = tf.add(v_1,v_2)\n",
    "print(v_add.eval())\n",
    "sess.close()\n"
   ]
  },
  {
   "cell_type": "code",
   "execution_count": 7,
   "metadata": {},
   "outputs": [
    {
     "data": {
      "text/plain": [
       "<tf.Tensor 'zeros_like:0' shape=(3,) dtype=int32>"
      ]
     },
     "execution_count": 7,
     "metadata": {},
     "output_type": "execute_result"
    }
   ],
   "source": [
    "t_1 = tf.constant(4)\n",
    "\n",
    "#A constant vector of shape [1,3] can be declared as follows\n",
    "t_2 = tf.constant([4, 3, 2])\n",
    "\n",
    "#To create a tensor with all elements zero, we use tf.zeros(). This statement3. creates a zero matrix of shape [M,N] with dtype (int32, float32, and so on):\n",
    "zero_t = tf.zeros([2,3],tf.int32) \n",
    "\n",
    "#We can also create tensor constants of the same shape as an existing Numpy4. array or tensor constant as follows:\n",
    "tf.zeros_like(t_2)\n",
    "# Created a zero matrix of same shape as t_2 , (similarly tf.ones_like(t_2))\n"
   ]
  },
  {
   "cell_type": "code",
   "execution_count": 8,
   "metadata": {},
   "outputs": [],
   "source": [
    "range_t = tf.linspace(2.0,5.0,5)\n",
    "# We get: [ 2.    2.75  3.5   4.25  5.  ] \n",
    "\n",
    "range_t = tf.range(10)\n",
    "#(default=0), incremented4. by delta (default =1)"
   ]
  },
  {
   "cell_type": "code",
   "execution_count": 9,
   "metadata": {},
   "outputs": [],
   "source": [
    "#To create random values from a normal distribution of shape [M,N] with the1. mean (default =0.0) and standard deviation (default=1.0) with seed, we can use the following:\n",
    "t_random = tf.random_normal([2,3], mean=2.0, stddev=4, seed=12)\n",
    "# Result: [[ 0.25347459  5.37990952  1.95276058], [-1.53760314 1.2588985   2.84780669]]\n",
    "\n",
    "#To create random values from a truncated normal distribution of shape2. [M,N] with the mean (default =0.0) and standard deviation (default=1.0) with seed, we can use the following:\n",
    "t_random = tf.truncated_normal([1,5], stddev=2, seed=12)\n",
    "# Result: [[-0.8732627 1.68995488 -0.02361972 -1.76880157 -3.87749004]] "
   ]
  },
  {
   "cell_type": "code",
   "execution_count": 10,
   "metadata": {},
   "outputs": [],
   "source": [
    "# To create random values from a given gamma distribution of shape [M,N] in the range [minval (default=0), maxval] with seed, perform as follows:\n",
    "t_random = tf.random_uniform([2,3], maxval=4, seed=12)\n",
    "# Result: [[ 2.54461002  3.69636583  2.70510912], [ 2.00850058 3.84459829  3.54268885]] "
   ]
  },
  {
   "cell_type": "code",
   "execution_count": 11,
   "metadata": {},
   "outputs": [],
   "source": [
    "tf.random_crop(t_random, [2,5],seed=12) \n",
    "tf.random_shuffle(t_random)\n",
    "tf.set_random_seed(54) "
   ]
  },
  {
   "cell_type": "code",
   "execution_count": 12,
   "metadata": {},
   "outputs": [],
   "source": [
    "rand_t = tf.random_uniform([50,50], 0, 10, seed=0)\n",
    "t_a = tf.Variable(rand_t)\n",
    "t_b = tf.Variable(rand_t) \n",
    "#Variables are often used to represent weights and biases in a neural network.\n"
   ]
  },
  {
   "cell_type": "code",
   "execution_count": 13,
   "metadata": {},
   "outputs": [],
   "source": [
    "weights = tf.Variable(tf.random_normal([100,100],stddev=2))\n",
    "weight2=tf.Variable(weights.initialized_value(), name='w2') "
   ]
  },
  {
   "cell_type": "code",
   "execution_count": 14,
   "metadata": {},
   "outputs": [],
   "source": [
    "#Each variable can also be initialized separately using5. tf.Variable.initializer during the running graph:\n",
    "\n",
    "intial_op = tf.global_variables_initializer()\n",
    "bias = tf.Variable(tf.zeros([100,100]))\n",
    "with tf.Session() as sess:\n",
    "    sess.run(bias.initializer)"
   ]
  },
  {
   "cell_type": "code",
   "execution_count": 15,
   "metadata": {},
   "outputs": [],
   "source": [
    "saver = tf.train.Saver() "
   ]
  },
  {
   "cell_type": "markdown",
   "metadata": {},
   "source": [
    "## PLACEHOLDER"
   ]
  },
  {
   "cell_type": "code",
   "execution_count": 16,
   "metadata": {},
   "outputs": [
    {
     "name": "stdout",
     "output_type": "stream",
     "text": [
      "[[ 4.3502655 14.418005  19.649063  18.77413   13.136597 ]\n",
      " [ 2.2432823  3.3825378 17.670773   8.047263  16.958218 ]\n",
      " [ 4.358715  11.3488865 10.752256  10.332763  13.038402 ]\n",
      " [17.571424  18.672045  16.945824   6.8418875  4.264269 ]]\n"
     ]
    }
   ],
   "source": [
    "#placeholders, they are used to feed data to the graph. \n",
    "#. Here, we define a placeholder for x and calculate y = 2 * x using feed_dict for a random 4×5 matrix:\n",
    "\n",
    "x = tf.placeholder(\"float\")\n",
    "y = 2 * x\n",
    "data = tf.random_uniform([4,5],10) \n",
    "with tf.Session() as sess:    \n",
    "    x_data = sess.run(data)  \n",
    "    print(sess.run(y, feed_dict = {x:x_data}))\n"
   ]
  },
  {
   "cell_type": "code",
   "execution_count": 17,
   "metadata": {},
   "outputs": [
    {
     "name": "stdout",
     "output_type": "stream",
     "text": [
      "[[1. 0. 0. 0. 0.]\n",
      " [0. 1. 0. 0. 0.]\n",
      " [0. 0. 1. 0. 0.]\n",
      " [0. 0. 0. 1. 0.]\n",
      " [0. 0. 0. 0. 1.]]\n",
      "[[1. 0. 0. 0. 0. 0. 0. 0. 0. 0.]\n",
      " [0. 1. 0. 0. 0. 0. 0. 0. 0. 0.]\n",
      " [0. 0. 1. 0. 0. 0. 0. 0. 0. 0.]\n",
      " [0. 0. 0. 1. 0. 0. 0. 0. 0. 0.]\n",
      " [0. 0. 0. 0. 1. 0. 0. 0. 0. 0.]\n",
      " [0. 0. 0. 0. 0. 1. 0. 0. 0. 0.]\n",
      " [0. 0. 0. 0. 0. 0. 1. 0. 0. 0.]\n",
      " [0. 0. 0. 0. 0. 0. 0. 1. 0. 0.]\n",
      " [0. 0. 0. 0. 0. 0. 0. 0. 1. 0.]\n",
      " [0. 0. 0. 0. 0. 0. 0. 0. 0. 1.]]\n",
      "[[-1.3359236   0.764569    0.2856698  -0.253296   -1.6790226   0.5317206\n",
      "  -0.9466202   0.25567088 -1.9711678   0.24675463]\n",
      " [ 0.22885749  0.23673335 -2.047524    0.41429302  1.4742044  -0.4852729\n",
      "  -0.69237554 -0.4336081  -0.25084692 -0.811446  ]\n",
      " [ 0.31752962  0.20787452 -0.2221204  -0.2187315   0.8708996   0.24889998\n",
      "  -0.7643637  -1.4146484   0.962386   -0.99511015]\n",
      " [-0.6579213  -0.3127666  -0.5968802  -0.7470046  -1.1117313  -1.2939056\n",
      "   0.04836388  0.86316514  1.4066361   2.306386  ]\n",
      " [ 1.4565439  -0.63394773 -0.6181454  -1.6682159  -0.91090685  2.463484\n",
      "   0.89056146 -1.9687915  -0.50178224 -0.27991796]]\n",
      "[[1 1 1 0 1 0 1 1 0 0]\n",
      " [1 0 0 0 1 0 1 0 0 0]\n",
      " [1 0 0 1 1 0 1 0 0 1]\n",
      " [1 1 1 1 0 1 1 1 0 1]\n",
      " [0 0 1 1 1 0 0 1 1 1]]\n",
      "A*X _b\n",
      " [[-0.33592355  1.764569    1.2856698  -0.253296   -0.67902255  0.5317206\n",
      "   0.05337977  1.2556709  -1.9711678   0.24675463]\n",
      " [ 1.2288575   0.23673335 -2.047524    0.41429302  2.4742045  -0.4852729\n",
      "   0.30762446 -0.4336081  -0.25084692 -0.811446  ]\n",
      " [ 1.3175297   0.20787452 -0.2221204   0.7812685   1.8708997   0.24889998\n",
      "   0.2356363  -1.4146484   0.962386    0.00488985]\n",
      " [ 0.3420787   0.6872334   0.4031198   0.25299537 -1.1117313  -0.29390562\n",
      "   1.0483639   1.8631651   1.4066361   3.306386  ]\n",
      " [ 1.4565439  -0.63394773  0.3818546  -0.6682159   0.08909315  2.463484\n",
      "   0.89056146 -0.9687915   0.49821776  0.72008204]]\n",
      "A*X - b\n",
      " [[-2.3359237  -0.23543102 -0.7143302  -0.253296   -2.6790226   0.5317206\n",
      "  -1.9466202  -0.7443291  -1.9711678   0.24675463]\n",
      " [-0.7711425   0.23673335 -2.047524    0.41429302  0.47420442 -0.4852729\n",
      "  -1.6923755  -0.4336081  -0.25084692 -0.811446  ]\n",
      " [-0.6824704   0.20787452 -0.2221204  -1.2187315  -0.12910038  0.24889998\n",
      "  -1.7643638  -1.4146484   0.962386   -1.9951102 ]\n",
      " [-1.6579213  -1.3127666  -1.5968802  -1.7470046  -1.1117313  -2.2939057\n",
      "  -0.95163614 -0.13683486  1.4066361   1.306386  ]\n",
      " [ 1.4565439  -0.63394773 -1.6181455  -2.6682158  -1.9109068   2.463484\n",
      "   0.89056146 -2.9687915  -1.5017822  -1.279918  ]]\n"
     ]
    }
   ],
   "source": [
    "import tensorflow as tf\n",
    "#Start an Interactive Session\n",
    "sess = tf.InteractiveSession()\n",
    "#Define a 5x5 Identity matrix \n",
    "I_matrix =tf.eye(5) \n",
    "print(I_matrix.eval()) \n",
    "# This will print a 5x5 Identity matrix\n",
    "#Define a Variable initialized to a 10x10 identity matrix \n",
    "X = tf.Variable(tf.eye(10))\n",
    "X.initializer.run() \n",
    "# Initialize the Variable\n",
    "print(X.eval())\n",
    "# Evaluate the Variable and print the result\n",
    "#Create a random 5x10 matrix \n",
    "A = tf.Variable(tf.random_normal([5,10]))\n",
    "A.initializer.run()\n",
    "#Multiply two matrices\n",
    "product = tf.matmul(A, X)\n",
    "print(product.eval())\n",
    "#create a random matrix of 1s and 0s, size 5x10\n",
    "b = tf.Variable(tf.random_uniform([5,10], 0, 2, dtype= tf.int32))\n",
    "b.initializer.run()\n",
    "\n",
    "print(b.eval())\n",
    "b_new = tf.cast(b, dtype=tf.float32)\n",
    "#Cast to float32 data type\n",
    "# Add the two matrice\n",
    "t_sum = tf.add(product, b_new)\n",
    "t_sub = product - b_new\n",
    "print(\"A*X _b\\n\", t_sum.eval()) \n",
    "print(\"A*X - b\\n\", t_sub.eval()) \n",
    "sess.close()"
   ]
  },
  {
   "cell_type": "code",
   "execution_count": 34,
   "metadata": {},
   "outputs": [],
   "source": []
  },
  {
   "cell_type": "code",
   "execution_count": 47,
   "metadata": {},
   "outputs": [
    {
     "ename": "SyntaxError",
     "evalue": "can't assign to operator (<ipython-input-47-2b2e434d21da>, line 23)",
     "output_type": "error",
     "traceback": [
      "\u001b[1;36m  File \u001b[1;32m\"<ipython-input-47-2b2e434d21da>\"\u001b[1;36m, line \u001b[1;32m23\u001b[0m\n\u001b[1;33m    tensorboard --logdir='\\summary_dir'\u001b[0m\n\u001b[1;37m    ^\u001b[0m\n\u001b[1;31mSyntaxError\u001b[0m\u001b[1;31m:\u001b[0m can't assign to operator\n"
     ]
    }
   ],
   "source": [
    "bias = tf.Variable(tf.zeros([10,10]))\n",
    "A = tf.Variable(tf.random_normal([10,10]))\n",
    "weights = tf.Variable(tf.random_normal([10,10],stddev=2))\n",
    "\n",
    "with tf.Session() as sess:\n",
    "    sess.run(bias.initializer)\n",
    "    sess.run(A.initializer)\n",
    "    sess.run(weights.initializer)\n",
    "\n",
    "    merged = tf.summary.merge_all()\n",
    "    tf.summary.scalar('loss', bias) \n",
    "    # Initialize the Variable\n",
    "    #You can also visualize the distribution of gradients, weights, or even output of a2. particular layer using tf.summary.histogram:\n",
    "    output_tensor  = tf.matmul(A, weights) + bias\n",
    "\n",
    "    tf.summary.histogram('output', output_tensor)\n",
    "\n",
    "    #The generated summary then needs to be written in an event file using4. tf.summary.Filewriter\n",
    "    #writer = tf.summary.Filewriter('summary_dir', sess.graph)\n",
    "    train_writer = tf.summary.FileWriter('summary_dir' + '/train',sess.graph)\n",
    "    \n",
    "    \n",
    "   # tensorboard --logdir='summary_dir'\n",
    "    #this line gives error \n",
    "\n",
    "\n"
   ]
  },
  {
   "cell_type": "code",
   "execution_count": null,
   "metadata": {},
   "outputs": [],
   "source": []
  },
  {
   "cell_type": "code",
   "execution_count": null,
   "metadata": {},
   "outputs": [],
   "source": []
  },
  {
   "cell_type": "code",
   "execution_count": null,
   "metadata": {},
   "outputs": [],
   "source": []
  },
  {
   "cell_type": "code",
   "execution_count": null,
   "metadata": {},
   "outputs": [],
   "source": []
  },
  {
   "cell_type": "code",
   "execution_count": null,
   "metadata": {},
   "outputs": [],
   "source": []
  },
  {
   "cell_type": "code",
   "execution_count": null,
   "metadata": {},
   "outputs": [],
   "source": []
  },
  {
   "cell_type": "code",
   "execution_count": null,
   "metadata": {},
   "outputs": [],
   "source": []
  },
  {
   "cell_type": "code",
   "execution_count": null,
   "metadata": {},
   "outputs": [],
   "source": []
  },
  {
   "cell_type": "code",
   "execution_count": null,
   "metadata": {},
   "outputs": [],
   "source": []
  }
 ],
 "metadata": {
  "kernelspec": {
   "display_name": "Python 3",
   "language": "python",
   "name": "python3"
  },
  "language_info": {
   "codemirror_mode": {
    "name": "ipython",
    "version": 3
   },
   "file_extension": ".py",
   "mimetype": "text/x-python",
   "name": "python",
   "nbconvert_exporter": "python",
   "pygments_lexer": "ipython3",
   "version": "3.6.5"
  }
 },
 "nbformat": 4,
 "nbformat_minor": 2
}
