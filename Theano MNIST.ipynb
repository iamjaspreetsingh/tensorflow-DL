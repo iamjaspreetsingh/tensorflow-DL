{
 "cells": [
  {
   "cell_type": "markdown",
   "metadata": {},
   "source": [
    "# Theano MNIST\n",
    "Before start using this, please select `Cell` - `All Output` - `Clear` to clear the old results. See [Classifying MNIST digits using Logistic Regression](http://deeplearning.net/tutorial/logreg.html) for details of the tutorial.\n",
    "\n",
    "# Loading MNIST training data"
   ]
  },
  {
   "cell_type": "code",
   "execution_count": null,
   "metadata": {
    "collapsed": true
   },
   "outputs": [],
   "source": [
    "import theano\n",
    "import theano.tensor as T\n",
    "import numpy"
   ]
  },
  {
   "cell_type": "code",
   "execution_count": null,
   "metadata": {
    "collapsed": false
   },
   "outputs": [],
   "source": [
    "# import MNIST data\n",
    "from tensorflow.examples.tutorials.mnist import input_data\n",
    "mnist = input_data.read_data_sets(\"MNIST_data/\", one_hot=True)"
   ]
  },
  {
   "cell_type": "markdown",
   "metadata": {},
   "source": [
    "# Defining a Neural Network"
   ]
  },
  {
   "cell_type": "code",
   "execution_count": null,
   "metadata": {
    "collapsed": false
   },
   "outputs": [],
   "source": [
    "# initialize with 0 the weights W as a matrix of shape (n_in, n_out)\n",
    "W = theano.shared(\n",
    "    value=numpy.zeros(\n",
    "        (784, 10),\n",
    "        dtype=theano.config.floatX\n",
    "    ),\n",
    "    name='W',\n",
    "    borrow=True\n",
    ")\n",
    "\n",
    "# initialize the biases b as a vector of n_out 0s\n",
    "b = theano.shared(\n",
    "    value=numpy.zeros(\n",
    "        (10,),\n",
    "        dtype=theano.config.floatX\n",
    "    ),\n",
    "    name='b',\n",
    "    borrow=True\n",
    ")\n",
    "\n",
    "# generate symbolic variables for input (x and y represent a\n",
    "# minibatch)\n",
    "x = T.matrix('x')  # data, presented as rasterized images\n",
    "\n",
    "y = T.nnet.softmax(T.dot(x, W) + b)\n",
    "y"
   ]
  },
  {
   "cell_type": "code",
   "execution_count": null,
   "metadata": {
    "collapsed": false
   },
   "outputs": [],
   "source": [
    "#y_ = T.ivector('y')  # labels, presented as 1D vector of [int] labels\n",
    "y_ = T.matrix('y')\n",
    "cross_entropy = -T.sum(y_*T.log(y))"
   ]
  },
  {
   "cell_type": "markdown",
   "metadata": {},
   "source": [
    "# Defining the Train Step"
   ]
  },
  {
   "cell_type": "code",
   "execution_count": null,
   "metadata": {
    "collapsed": false
   },
   "outputs": [],
   "source": [
    "# allocate symbolic variables for the data\n",
    "index = T.lscalar()  # index to a [mini]batch\n",
    "\n",
    "learning_rate = 0.1\n",
    "\n",
    "# compute the gradient of cost with respect to theta = (W,b)\n",
    "g_W = T.grad(cost=cross_entropy, wrt=W)\n",
    "g_b = T.grad(cost=cross_entropy, wrt=b)\n",
    "\n",
    "# start-snippet-3\n",
    "# specify how to update the parameters of the model as a list of\n",
    "# (variable, update expression) pairs.\n",
    "updates = [(W, W - learning_rate * g_W),\n",
    "           (b, b - learning_rate * g_b)]\n",
    "\n",
    "train_model = theano.function(\n",
    "    inputs=[x, y_],\n",
    "    outputs=cross_entropy,\n",
    "    updates=updates\n",
    ")\n",
    "\n",
    "train_model"
   ]
  },
  {
   "cell_type": "markdown",
   "metadata": {},
   "source": [
    "# Do 1000 times of mini-batch training"
   ]
  },
  {
   "cell_type": "code",
   "execution_count": null,
   "metadata": {
    "collapsed": false
   },
   "outputs": [],
   "source": [
    "for i in range(1000):\n",
    "    batch_xs, batch_ys = mnist.train.next_batch(100)\n",
    "\n",
    "    batch_xs = numpy.asarray(batch_xs, dtype=theano.config.floatX)\n",
    "    batch_ys = numpy.asarray(batch_ys, dtype=theano.config.floatX)\n",
    "\n",
    "    train_model(batch_xs, batch_ys)"
   ]
  },
  {
   "cell_type": "markdown",
   "metadata": {},
   "source": [
    "# Test"
   ]
  },
  {
   "cell_type": "code",
   "execution_count": null,
   "metadata": {
    "collapsed": false
   },
   "outputs": [],
   "source": [
    "test_set_x = numpy.asarray(mnist.test.images, dtype=theano.config.floatX)\n",
    "test_set_y = numpy.asarray(mnist.test.labels, dtype=theano.config.floatX)\n",
    "\n",
    "correct_prediction = T.eq(T.argmax(y, 1), T.argmax(y_, 1))\n",
    "accuracy = T.mean(T.cast(correct_prediction, 'float32'))\n",
    "accuracy_f = theano.function(\n",
    "  inputs=[x, y_],\n",
    "  outputs=accuracy,\n",
    ")\n",
    "print(accuracy_f(test_set_x, test_set_y))"
   ]
  }
 ],
 "metadata": {
  "kernelspec": {
   "display_name": "Python 2",
   "language": "python",
   "name": "python2"
  },
  "language_info": {
   "codemirror_mode": {
    "name": "ipython",
    "version": 2
   },
   "file_extension": ".py",
   "mimetype": "text/x-python",
   "name": "python",
   "nbconvert_exporter": "python",
   "pygments_lexer": "ipython2",
   "version": "2.7.11+"
  }
 },
 "nbformat": 4,
 "nbformat_minor": 0
}
